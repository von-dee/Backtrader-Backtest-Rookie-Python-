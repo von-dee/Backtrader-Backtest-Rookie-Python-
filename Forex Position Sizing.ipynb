{
 "cells": [
  {
   "cell_type": "code",
   "execution_count": 1,
   "metadata": {},
   "outputs": [],
   "source": [
    "\n",
    "from __future__ import (absolute_import, division, print_function,\n",
    "                        unicode_literals)\n",
    "\n",
    "import datetime  # For datetime objects\n",
    "import os.path  # To manage paths\n",
    "import sys  # To find out the script name (in argv[0])\n",
    "\n",
    "# Import the backtrader platform\n",
    "import backtrader as bt\n",
    "import backtrader.feeds as btfeed\n",
    "\n",
    "\n",
    "def size_position(self, price, stop, risk, method=0, exchange_rate=None, JPY_pair=False):\n",
    "    '''\n",
    "    Helper function to calcuate the position size given a known amount of risk.\n",
    " \n",
    "    *Args*\n",
    "    - price: Float, the current price of the instrument\n",
    "    - stop: Float, price level of the stop loss\n",
    "    - risk: Float, the amount of the account equity to risk\n",
    " \n",
    "    *Kwargs*\n",
    "    - JPY_pair: Bool, whether the instrument being traded is part of a JPY\n",
    "    pair. The muliplier used for calculations will be changed as a result.\n",
    "    - Method: Int,\n",
    "        - 0: Acc currency and counter currency are the same\n",
    "        - 1: Acc currency is same as base currency\n",
    "        - 2: Acc currency is neither same as base or counter currency\n",
    "    - exchange_rate: Float, is the exchange rate between the account currency\n",
    "    and the counter currency. Required for method 2.\n",
    "    '''\n",
    " \n",
    "    if JPY_pair == True: #check if a YEN cross and change the multiplier\n",
    "        multiplier = 0.01\n",
    "    else:\n",
    "        multiplier = 0.0001\n",
    " \n",
    "    #Calc how much to risk\n",
    "    acc_value = self.broker.getvalue()\n",
    "    cash_risk = acc_value * risk\n",
    "    stop_pips_int = abs((price - stop) / multiplier)\n",
    "    pip_value = cash_risk / stop_pips_int\n",
    " \n",
    "    if method == 1:\n",
    "        #pip_value = pip_value * price\n",
    "        units = pip_value / multiplier\n",
    "        return units\n",
    " \n",
    "    elif method == 2:\n",
    "        pip_value = pip_value * exchange_rate\n",
    "        units = pip_value / multiplier\n",
    "        return units\n",
    " \n",
    "    else: # is method 0\n",
    "        units = pip_value / multiplier\n",
    "        return units"
   ]
  },
  {
   "cell_type": "code",
   "execution_count": null,
   "metadata": {},
   "outputs": [],
   "source": []
  }
 ],
 "metadata": {
  "kernelspec": {
   "display_name": "Python (zipline)",
   "language": "python",
   "name": "env_zipline"
  },
  "language_info": {
   "codemirror_mode": {
    "name": "ipython",
    "version": 3
   },
   "file_extension": ".py",
   "mimetype": "text/x-python",
   "name": "python",
   "nbconvert_exporter": "python",
   "pygments_lexer": "ipython3",
   "version": "3.5.6"
  }
 },
 "nbformat": 4,
 "nbformat_minor": 2
}
